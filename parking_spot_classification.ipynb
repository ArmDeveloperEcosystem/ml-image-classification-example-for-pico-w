{
  "cells": [
    {
      "cell_type": "code",
      "execution_count": null,
      "metadata": {
        "id": "QjGmXClgccg7"
      },
      "outputs": [],
      "source": [
        "# download the dataset\n",
        "\n",
        "import os\n",
        "\n",
        "import tensorflow as tf\n",
        "\n",
        "dataset_path = os.path.join(\n",
        "    os.getcwd(),\n",
        "    'dataset'\n",
        ")\n",
        "\n",
        "_ = tf.keras.utils.get_file(\n",
        "    origin='https://github.com/fabiocarrara/deep-parking/releases/download/archive/CNR-EXT-Patches-150x150.zip', #'http://cnrpark.it/dataset/CNR-EXT-Patches-150x150.zip',\n",
        "    cache_subdir=os.path.join(dataset_path, 'CNR-EXT-Patches-150x150'),\n",
        "    extract=True,\n",
        ")"
      ]
    },
    {
      "cell_type": "code",
      "execution_count": null,
      "metadata": {
        "id": "yX8PfJeMzvZt"
      },
      "outputs": [],
      "source": [
        "# create variables for dataset paths\n",
        "\n",
        "cnr_ext_path = os.path.join(dataset_path, 'CNR-EXT-Patches-150x150')\n",
        "\n",
        "labels_path = os.path.join(cnr_ext_path, 'LABELS')\n",
        "patches_path = os.path.join(cnr_ext_path, 'PATCHES')\n",
        "\n",
        "train_txt_path = os.path.join(labels_path, 'train.txt')\n",
        "val_txt_path = os.path.join(labels_path, 'val.txt')\n",
        "test_txt_path = os.path.join(labels_path, 'test.txt')"
      ]
    },
    {
      "cell_type": "code",
      "execution_count": null,
      "metadata": {
        "id": "py0CUAluogCq"
      },
      "outputs": [],
      "source": [
        "# create function to load label data from the label .txt files\n",
        "\n",
        "import pandas as pd\n",
        "\n",
        "def load_labels(txt_path, split):\n",
        "  df = pd.read_csv(\n",
        "      txt_path,\n",
        "      sep=' ',\n",
        "      names=['path', 'label']\n",
        "  )\n",
        "\n",
        "  df_absolute_paths = df['path'].apply(lambda path: os.path.join(patches_path, path))\n",
        "\n",
        "  df = df.assign(path=df_absolute_paths)\n",
        "  df = df.assign(split=split)\n",
        "\n",
        "  return df"
      ]
    },
    {
      "cell_type": "code",
      "execution_count": null,
      "metadata": {
        "id": "6Jm7mbaSog7I"
      },
      "outputs": [],
      "source": [
        "# load the label files and concatenate into a single dataframe\n",
        "\n",
        "train_df = load_labels(train_txt_path, 'train')\n",
        "val_df = load_labels(val_txt_path, 'val')\n",
        "test_df = load_labels(test_txt_path, 'test')\n",
        "\n",
        "df = pd.concat([train_df, val_df, test_df])\n",
        "\n",
        "df.head()"
      ]
    },
    {
      "cell_type": "code",
      "execution_count": null,
      "metadata": {
        "id": "dYYAbdwLo_qN"
      },
      "outputs": [],
      "source": [
        "# copy the images to the\n",
        "\n",
        "import shutil\n",
        "\n",
        "def move_sample(row):\n",
        "  dest_folder = os.path.join(dataset_path, row['split'], str(row['label']))\n",
        "  os.makedirs(dest_folder, exist_ok=True)\n",
        "\n",
        "  shutil.copy(row['path'], dest_folder)\n",
        "\n",
        "_ = df.apply(move_sample, axis='columns')"
      ]
    },
    {
      "cell_type": "code",
      "execution_count": null,
      "metadata": {
        "id": "fOjJUHnsiN_J"
      },
      "outputs": [],
      "source": [
        "def load_dataset(split):\n",
        "  return tf.keras.utils.image_dataset_from_directory(\n",
        "    os.path.join(dataset_path, split),\n",
        "    color_mode='grayscale',\n",
        "    label_mode='categorical',\n",
        "    batch_size=32,\n",
        "    image_size=(120, 120),\n",
        "    shuffle=True,\n",
        "    seed=42\n",
        ")\n",
        "\n",
        "train_ds = load_dataset('train')\n",
        "val_ds = load_dataset('val')\n",
        "test_ds = load_dataset('test')"
      ]
    },
    {
      "cell_type": "code",
      "execution_count": null,
      "metadata": {
        "id": "DP-QQhpqjhOq"
      },
      "outputs": [],
      "source": [
        "ALPHA = 0.25\n",
        "DROPOUT = 0.10\n",
        "\n",
        "mobilenet_025_96 = tf.keras.applications.mobilenet.MobileNet(\n",
        "    input_shape=(96, 96, 1),\n",
        "    alpha=ALPHA,\n",
        "    dropout=DROPOUT,\n",
        "    weights=None,\n",
        "    pooling='avg',\n",
        "    classes=2,\n",
        ")\n",
        "\n",
        "mobilenet_025_96.summary()"
      ]
    },
    {
      "cell_type": "code",
      "execution_count": null,
      "metadata": {
        "id": "guFYoqmzQdTq"
      },
      "outputs": [],
      "source": [
        "def modify_mobilenet_for_rp2040(mobilenet_model):\n",
        "  input_type_spec = mobilenet_model.layers[0].input.type_spec\n",
        "\n",
        "  input = tf.keras.Input(shape=(input_type_spec.shape[1:]))\n",
        "  output = input\n",
        "\n",
        "  for layer in mobilenet_model.layers[1:]:\n",
        "    if (isinstance(layer, tf.keras.layers.Reshape)):\n",
        "      print(\"replacing Reshape\", layer.name)\n",
        "      output = tf.keras.layers.Flatten()(output)\n",
        "    else:\n",
        "      output = layer(output)\n",
        "\n",
        "  return tf.keras.Model(input, output)\n",
        "\n",
        "\n",
        "mobilenet_025_96 = modify_mobilenet_for_rp2040(mobilenet_025_96)"
      ]
    },
    {
      "cell_type": "code",
      "execution_count": null,
      "metadata": {
        "id": "HdN1VqcejpPK"
      },
      "outputs": [],
      "source": [
        "data_augmentation = tf.keras.Sequential([\n",
        "  tf.keras.layers.RandomFlip(\"horizontal\", seed=42),\n",
        "  tf.keras.layers.RandomRotation(0.2, seed=42),\n",
        "  tf.keras.layers.RandomZoom(0.2, seed=42),\n",
        "  tf.keras.layers.RandomContrast(0.3, seed=42),\n",
        "  tf.keras.layers.RandomBrightness(0.3, seed=42),\n",
        "  tf.keras.layers.GaussianNoise(0.01, seed=42),\n",
        "])"
      ]
    },
    {
      "cell_type": "code",
      "execution_count": null,
      "metadata": {
        "id": "e32yjkT_jyVr"
      },
      "outputs": [],
      "source": [
        "model = tf.keras.Sequential([\n",
        "  data_augmentation,\n",
        "  tf.keras.layers.Resizing(96, 96, crop_to_aspect_ratio=True),\n",
        "  mobilenet_025_96\n",
        "])"
      ]
    },
    {
      "cell_type": "code",
      "execution_count": null,
      "metadata": {
        "id": "OyyXs_3Tj9Oy"
      },
      "outputs": [],
      "source": [
        "callbacks = [\n",
        "  tf.keras.callbacks.EarlyStopping(\n",
        "      monitor='val_loss',\n",
        "      patience=3,\n",
        "      verbose=0,\n",
        "      restore_best_weights=True,\n",
        "  )\n",
        "]"
      ]
    },
    {
      "cell_type": "code",
      "execution_count": null,
      "metadata": {
        "id": "a0CdVO_mj-vB"
      },
      "outputs": [],
      "source": [
        "model.compile(\n",
        "    optimizer=tf.keras.optimizers.Adam(learning_rate=0.001),\n",
        "    loss=tf.keras.losses.CategoricalCrossentropy(),\n",
        "    metrics=['accuracy']\n",
        ")"
      ]
    },
    {
      "cell_type": "code",
      "execution_count": null,
      "metadata": {
        "id": "LZbghAZCkB7S"
      },
      "outputs": [],
      "source": [
        "train_ds_cached_shuffled = train_ds.cache().shuffle(1024, seed=42).prefetch(tf.data.AUTOTUNE)\n",
        "val_ds_cached = val_ds.cache().prefetch(tf.data.AUTOTUNE)\n",
        "\n",
        "history = model.fit(\n",
        "    train_ds_cached_shuffled,\n",
        "    validation_data=val_ds_cached,\n",
        "    epochs=10,\n",
        "    batch_size=32,\n",
        "    callbacks=callbacks\n",
        ")"
      ]
    },
    {
      "cell_type": "code",
      "execution_count": null,
      "metadata": {
        "id": "2RehYuiBjV84"
      },
      "outputs": [],
      "source": [
        "model.evaluate(test_ds)"
      ]
    },
    {
      "cell_type": "code",
      "execution_count": null,
      "metadata": {
        "id": "cCb62ng5jLId"
      },
      "outputs": [],
      "source": [
        "model.save('model')"
      ]
    },
    {
      "cell_type": "code",
      "execution_count": null,
      "metadata": {
        "id": "J8r2bFWKm4em"
      },
      "outputs": [],
      "source": [
        "mobilenet_025_96.save('mobilenet_025_96_model')"
      ]
    },
    {
      "cell_type": "code",
      "execution_count": null,
      "metadata": {
        "id": "ZT_lUR3VnHL3"
      },
      "outputs": [],
      "source": [
        "import numpy as np\n",
        "\n",
        "def image_resize_96_96(x, y):\n",
        "  x = tf.image.resize(x, (96, 96))\n",
        "  x = tf.expand_dims(x, axis=0)\n",
        "\n",
        "  return x, y\n",
        "\n",
        "val_ds_96_96 = val_ds.unbatch().map(image_resize_96_96)\n",
        "\n",
        "def representative_dataset():\n",
        "  for image, label in val_ds_96_96.take(1000):\n",
        "    yield [image]\n",
        "\n",
        "converter = tf.lite.TFLiteConverter.from_keras_model(\n",
        "  tf.keras.Model(\n",
        "        inputs=[\n",
        "            mobilenet_025_96.layers[0].input\n",
        "        ],\n",
        "        outputs=tf.concat([\n",
        "            mobilenet_025_96.outputs[0],\n",
        "            mobilenet_025_96.layers[-2].output,\n",
        "        ], axis=1)\n",
        "    )\n",
        ")\n",
        "converter.optimizations = [ tf.lite.Optimize.DEFAULT ]\n",
        "converter.representative_dataset = representative_dataset\n",
        "\n",
        "converter.target_spec.supported_ops = [ tf.lite.OpsSet.TFLITE_BUILTINS_INT8 ]\n",
        "converter.inference_input_type = tf.int8\n",
        "converter.inference_output_type = tf.float32\n",
        "\n",
        "tflite_quant_model = converter.convert()"
      ]
    },
    {
      "cell_type": "code",
      "execution_count": null,
      "metadata": {
        "id": "ws54dP7Rp9Av"
      },
      "outputs": [],
      "source": [
        "with open('mobilenet_025_96.tflite', 'wb') as output:\n",
        "  print(len(tflite_quant_model))\n",
        "  output.write(tflite_quant_model);\n"
      ]
    },
    {
      "cell_type": "code",
      "execution_count": null,
      "metadata": {
        "id": "aRUcqfMdtVcZ"
      },
      "outputs": [],
      "source": [
        "interpreter = tf.lite.Interpreter('mobilenet_025_96.tflite')\n",
        "interpreter.allocate_tensors()\n",
        "\n",
        "print(interpreter.get_input_details())\n",
        "print(interpreter.get_output_details())\n",
        "\n",
        "for x, y in train_ds.unbatch().take(10):\n",
        "  x = tf.image.resize(x, (96, 96))\n",
        "  x = tf.expand_dims(x, axis=0)\n",
        "  x -= 128\n",
        "  x = tf.cast(x, tf.int8)\n",
        "\n",
        "  print(x.shape, x.dtype, y)\n",
        "\n",
        "  interpreter.set_tensor(0, x)\n",
        "  interpreter.invoke()\n",
        "\n",
        "  print(\n",
        "      interpreter.get_tensor(\n",
        "          interpreter.get_output_details()[0]['index']\n",
        "      )\n",
        "  )\n"
      ]
    },
    {
      "cell_type": "code",
      "execution_count": null,
      "metadata": {
        "id": "hn-776xeSqPb"
      },
      "outputs": [],
      "source": [
        "!apt-get install -y xxd"
      ]
    },
    {
      "cell_type": "code",
      "execution_count": null,
      "metadata": {
        "id": "x5bCd257SwTQ"
      },
      "outputs": [],
      "source": [
        "%%shell\n",
        "echo \"alignas(8) const unsigned char tflite_model[] = {\" > tflite_model.h\n",
        "cat mobilenet_025_96.tflite | xxd -i                                >> tflite_model.h\n",
        "echo \"};\"                                                >> tflite_model.h"
      ]
    },
    {
      "cell_type": "code",
      "source": [],
      "metadata": {
        "id": "tWnk4tTpnVug"
      },
      "execution_count": null,
      "outputs": []
    }
  ],
  "metadata": {
    "accelerator": "GPU",
    "colab": {
      "provenance": [],
      "gpuType": "T4"
    },
    "kernelspec": {
      "display_name": "Python 3",
      "name": "python3"
    },
    "language_info": {
      "name": "python"
    }
  },
  "nbformat": 4,
  "nbformat_minor": 0
}