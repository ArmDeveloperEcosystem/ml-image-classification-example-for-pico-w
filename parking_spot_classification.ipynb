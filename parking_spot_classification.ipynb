{
  "cells": [
    {
      "cell_type": "code",
      "execution_count": null,
      "metadata": {
        "id": "80IuzI__0nbh"
      },
      "outputs": [],
      "source": [
        "!pip install tensorflow_model_optimization==0.7.5"
      ]
    },
    {
      "cell_type": "code",
      "execution_count": null,
      "metadata": {
        "id": "QjGmXClgccg7"
      },
      "outputs": [],
      "source": [
        "# download the dataset\n",
        "\n",
        "import os\n",
        "\n",
        "import tensorflow as tf\n",
        "\n",
        "dataset_path = os.path.join(os.getcwd(), 'dataset')\n",
        "\n",
        "# _ = tf.keras.utils.get_file(\n",
        "#     origin='http://cnrpark.it/dataset/CNRPark+EXT.csv',\n",
        "#     cache_subdir=dataset_path,\n",
        "# )\n",
        "\n",
        "# _ = tf.keras.utils.get_file(\n",
        "#     origin='http://cnrpark.it/dataset/CNRPark-Patches-150x150.zip',\n",
        "#     cache_subdir=os.path.join(dataset_path, 'CNRPark-Patches-150x150'),\n",
        "#     extract=True,\n",
        "# )\n",
        "\n",
        "_ = tf.keras.utils.get_file(\n",
        "    origin='https://github.com/fabiocarrara/deep-parking/releases/download/archive/CNR-EXT-Patches-150x150.zip', #'http://cnrpark.it/dataset/CNR-EXT-Patches-150x150.zip',\n",
        "    cache_subdir=os.path.join(dataset_path, 'CNR-EXT-Patches-150x150'),\n",
        "    extract=True,\n",
        ")"
      ]
    },
    {
      "cell_type": "code",
      "execution_count": null,
      "metadata": {
        "id": "yX8PfJeMzvZt"
      },
      "outputs": [],
      "source": [
        "# create variables for dataset paths\n",
        "\n",
        "cnr_ext_path = os.path.join(dataset_path, 'CNR-EXT-Patches-150x150')\n",
        "\n",
        "labels_path = os.path.join(cnr_ext_path, 'LABELS')\n",
        "patches_path = os.path.join(cnr_ext_path, 'PATCHES')\n",
        "\n",
        "train_txt_path = os.path.join(labels_path, 'train.txt')\n",
        "val_txt_path = os.path.join(labels_path, 'val.txt')\n",
        "test_txt_path = os.path.join(labels_path, 'test.txt')"
      ]
    },
    {
      "cell_type": "code",
      "execution_count": null,
      "metadata": {
        "id": "py0CUAluogCq"
      },
      "outputs": [],
      "source": [
        "# create function to load label data from the label .txt files\n",
        "\n",
        "import pandas as pd\n",
        "\n",
        "def load_labels(txt_path, split):\n",
        "  df = pd.read_csv(\n",
        "      txt_path,\n",
        "      sep=' ',\n",
        "      names=['path', 'label']\n",
        "  )\n",
        "\n",
        "  df_absolute_paths = df['path'].apply(lambda path: os.path.join(patches_path, path))\n",
        "\n",
        "  df = df.assign(path=df_absolute_paths)\n",
        "  df = df.assign(split=split)\n",
        "\n",
        "  return df"
      ]
    },
    {
      "cell_type": "code",
      "execution_count": null,
      "metadata": {
        "id": "6Jm7mbaSog7I"
      },
      "outputs": [],
      "source": [
        "# load the label files and concatenate into a single dataframe\n",
        "\n",
        "train_df = load_labels(train_txt_path, 'train')\n",
        "val_df = load_labels(val_txt_path, 'val')\n",
        "test_df = load_labels(test_txt_path, 'test')\n",
        "\n",
        "df = pd.concat([train_df, val_df, test_df])\n",
        "\n",
        "df.head()"
      ]
    },
    {
      "cell_type": "code",
      "execution_count": null,
      "metadata": {
        "id": "dYYAbdwLo_qN"
      },
      "outputs": [],
      "source": [
        "# copy the images to the\n",
        "\n",
        "import shutil\n",
        "\n",
        "def move_sample(row):\n",
        "  dest_folder = os.path.join(dataset_path, row['split'], str(row['label']))\n",
        "  os.makedirs(dest_folder, exist_ok=True)\n",
        "\n",
        "  shutil.copy(row['path'], dest_folder)\n",
        "\n",
        "_ = df.apply(move_sample, axis='columns')"
      ]
    },
    {
      "cell_type": "code",
      "execution_count": null,
      "metadata": {
        "id": "fOjJUHnsiN_J"
      },
      "outputs": [],
      "source": [
        "def load_dataset(split):\n",
        "  return tf.keras.utils.image_dataset_from_directory(\n",
        "    os.path.join(dataset_path, split),\n",
        "    color_mode='grayscale',\n",
        "    label_mode='categorical',\n",
        "    batch_size=32,\n",
        "    image_size=(120, 120),\n",
        "    shuffle=True,\n",
        "    seed=42\n",
        ")\n",
        "\n",
        "train_ds = load_dataset('train')\n",
        "val_ds = load_dataset('val')\n",
        "test_ds = load_dataset('test')"
      ]
    },
    {
      "cell_type": "code",
      "execution_count": null,
      "metadata": {
        "id": "DP-QQhpqjhOq"
      },
      "outputs": [],
      "source": [
        "ALPHA = 0.25\n",
        "DROPOUT = 0.10\n",
        "\n",
        "mobilenet_025_96 = tf.keras.applications.mobilenet.MobileNet(\n",
        "    input_shape=(96, 96, 1),\n",
        "    alpha=ALPHA,\n",
        "    dropout=DROPOUT,\n",
        "    weights=None,\n",
        "    pooling='avg',\n",
        "    classes=2,\n",
        ")\n",
        "\n",
        "# mobilenet_025_96.summary()\n"
      ]
    },
    {
      "cell_type": "code",
      "execution_count": null,
      "metadata": {
        "id": "guFYoqmzQdTq"
      },
      "outputs": [],
      "source": [
        "def modify_mobilenet_for_rp2040(mobilenet_model):\n",
        "  input_type_spec = mobilenet_model.layers[0].input.type_spec\n",
        "\n",
        "  input = tf.keras.Input(shape=(input_type_spec.shape[1:]))\n",
        "  output = input\n",
        "\n",
        "  for layer in mobilenet_model.layers[1:]:\n",
        "    if (isinstance(layer, tf.keras.layers.Reshape)):\n",
        "      print(\"replacing Reshape\", layer.name)\n",
        "      output = tf.keras.layers.Flatten()(output)\n",
        "    else:\n",
        "      output = layer(output)\n",
        "\n",
        "  return tf.keras.Model(input, output)\n",
        "\n",
        "\n",
        "mobilenet_025_96 = modify_mobilenet_for_rp2040(mobilenet_025_96)"
      ]
    },
    {
      "cell_type": "code",
      "execution_count": null,
      "metadata": {
        "id": "HdN1VqcejpPK"
      },
      "outputs": [],
      "source": [
        "data_augmentation = tf.keras.Sequential([\n",
        "  tf.keras.layers.RandomFlip(\"horizontal\", seed=42),\n",
        "  tf.keras.layers.RandomRotation(0.2, seed=42),\n",
        "  tf.keras.layers.RandomZoom(0.2, seed=42),\n",
        "  tf.keras.layers.RandomContrast(0.3, seed=42),\n",
        "  tf.keras.layers.RandomBrightness(0.3, seed=42),\n",
        "  tf.keras.layers.GaussianNoise(0.01, seed=42)\n",
        "])"
      ]
    },
    {
      "cell_type": "code",
      "execution_count": null,
      "metadata": {
        "id": "e32yjkT_jyVr"
      },
      "outputs": [],
      "source": [
        "model = tf.keras.Sequential([\n",
        "  data_augmentation,\n",
        "  tf.keras.layers.Resizing(96, 96, crop_to_aspect_ratio=True),\n",
        "  mobilenet_025_96\n",
        "])"
      ]
    },
    {
      "cell_type": "code",
      "execution_count": null,
      "metadata": {
        "id": "OyyXs_3Tj9Oy"
      },
      "outputs": [],
      "source": [
        "# LEARNING_RATE = 0.01\n",
        "# EPOCHS = 20\n",
        "\n",
        "callbacks = [\n",
        "  # tf.keras.callbacks.LearningRateScheduler(\n",
        "  #     schedule=lambda epoch, lr: lr * tf.math.exp(-0.1)\n",
        "  # ),\n",
        "  # tf.keras.callbacks.ModelCheckpoint(\n",
        "  #   filepath='/tmp/checkpoint',\n",
        "  #   monitor='val_loss',\n",
        "  #   verbose=1,\n",
        "  #   save_best_only=True,\n",
        "  #   mode='min',\n",
        "  #   save_weights_only=True,\n",
        "  # )\n",
        "\n",
        "  tf.keras.callbacks.EarlyStopping(\n",
        "      monitor='val_loss',\n",
        "      patience=3,\n",
        "      verbose=0,\n",
        "      restore_best_weights=True,\n",
        "  )\n",
        "]"
      ]
    },
    {
      "cell_type": "code",
      "execution_count": null,
      "metadata": {
        "id": "a0CdVO_mj-vB"
      },
      "outputs": [],
      "source": [
        "model.compile(\n",
        "    optimizer=tf.keras.optimizers.Adam(learning_rate=0.001),\n",
        "    loss=tf.keras.losses.CategoricalCrossentropy(),\n",
        "    metrics=['accuracy']\n",
        ")"
      ]
    },
    {
      "cell_type": "code",
      "execution_count": null,
      "metadata": {
        "id": "LZbghAZCkB7S"
      },
      "outputs": [],
      "source": [
        "train_ds_cached_shuffled = train_ds.cache().shuffle(1024, seed=42).prefetch(tf.data.AUTOTUNE)\n",
        "val_ds_cached = val_ds.cache().prefetch(tf.data.AUTOTUNE)\n",
        "\n",
        "history = model.fit(\n",
        "    train_ds_cached_shuffled,\n",
        "    validation_data=val_ds_cached,\n",
        "    epochs=10,\n",
        "    batch_size=32,\n",
        "    callbacks=callbacks\n",
        ")"
      ]
    },
    {
      "cell_type": "code",
      "execution_count": null,
      "metadata": {
        "id": "2RehYuiBjV84"
      },
      "outputs": [],
      "source": [
        "model.evaluate(test_ds)"
      ]
    },
    {
      "cell_type": "code",
      "execution_count": null,
      "metadata": {
        "id": "cCb62ng5jLId"
      },
      "outputs": [],
      "source": [
        "model.save('model')"
      ]
    },
    {
      "cell_type": "code",
      "execution_count": null,
      "metadata": {
        "id": "J8r2bFWKm4em"
      },
      "outputs": [],
      "source": [
        "mobilenet_025_96.save('mobilenet_025_96_model')"
      ]
    },
    {
      "cell_type": "code",
      "execution_count": null,
      "metadata": {
        "id": "ZT_lUR3VnHL3"
      },
      "outputs": [],
      "source": [
        "import numpy as np\n",
        "\n",
        "def image_resize_96_96(x, y):\n",
        "  x = tf.image.resize(x, (96, 96))\n",
        "  x = tf.expand_dims(x, axis=0)\n",
        "\n",
        "  return x, y\n",
        "\n",
        "val_ds_96_96 = val_ds.unbatch().map(image_resize_96_96)\n",
        "\n",
        "def representative_dataset():\n",
        "  for image, label in val_ds_96_96.take(1000):\n",
        "    yield [image]\n",
        "\n",
        "converter = tf.lite.TFLiteConverter.from_keras_model(\n",
        "  tf.keras.Model(\n",
        "        inputs=[\n",
        "            mobilenet_025_96.layers[0].input\n",
        "        ],\n",
        "        outputs=tf.concat([\n",
        "            mobilenet_025_96.outputs[0],\n",
        "            mobilenet_025_96.layers[-2].output,\n",
        "        ], axis=1)\n",
        "    )\n",
        ")\n",
        "converter.optimizations = [ tf.lite.Optimize.DEFAULT ]\n",
        "converter.representative_dataset = representative_dataset\n",
        "\n",
        "converter.target_spec.supported_ops = [ tf.lite.OpsSet.TFLITE_BUILTINS_INT8 ]\n",
        "converter.inference_input_type = tf.int8\n",
        "converter.inference_output_type = tf.float32\n",
        "\n",
        "tflite_quant_model = converter.convert()"
      ]
    },
    {
      "cell_type": "code",
      "execution_count": null,
      "metadata": {
        "id": "ws54dP7Rp9Av"
      },
      "outputs": [],
      "source": [
        "with open('model.tflite', 'wb') as output:\n",
        "  print(len(tflite_quant_model))\n",
        "  output.write(tflite_quant_model);\n"
      ]
    },
    {
      "cell_type": "code",
      "execution_count": null,
      "metadata": {
        "id": "aRUcqfMdtVcZ"
      },
      "outputs": [],
      "source": [
        "interpreter = tf.lite.Interpreter('model.tflite')\n",
        "interpreter.allocate_tensors()\n",
        "\n",
        "print(interpreter.get_input_details())\n",
        "print(interpreter.get_output_details())\n",
        "\n",
        "for x, y in train_ds.unbatch().take(10):\n",
        "  x = tf.image.resize(x, (96, 96))\n",
        "  x = tf.expand_dims(x, axis=0)\n",
        "  x -= 128\n",
        "  x = tf.cast(x, tf.int8)\n",
        "\n",
        "  print(x.shape, x.dtype, y)\n",
        "\n",
        "  # input = tf.fill((1, 96, 96, 1), 255) #zeros((1, 96, 96, 1), dtype=tf.int8)\n",
        "  # input -= 128\n",
        "  # input = tf.cast(input, dtype=tf.int8)\n",
        "  # x = input\n",
        "\n",
        "  interpreter.set_tensor(0, x)\n",
        "  interpreter.invoke()\n",
        "\n",
        "  print((interpreter.get_tensor(interpreter.get_output_details()[0]['index'])))\n"
      ]
    },
    {
      "cell_type": "code",
      "execution_count": null,
      "metadata": {
        "id": "hn-776xeSqPb"
      },
      "outputs": [],
      "source": [
        "!apt-get install -y xxd"
      ]
    },
    {
      "cell_type": "code",
      "execution_count": null,
      "metadata": {
        "id": "x5bCd257SwTQ"
      },
      "outputs": [],
      "source": [
        "%%shell\n",
        "echo \"alignas(8) const unsigned char tflite_model[] = {\" > tflite_model.h\n",
        "cat model.tflite | xxd -i                                >> tflite_model.h\n",
        "echo \"};\"                                                >> tflite_model.h"
      ]
    },
    {
      "cell_type": "code",
      "execution_count": null,
      "metadata": {
        "id": "Z3Cjq2TRfkmi"
      },
      "outputs": [],
      "source": [
        "#### ..."
      ]
    },
    {
      "cell_type": "code",
      "execution_count": null,
      "metadata": {
        "id": "GEv55aM-C4S-"
      },
      "outputs": [],
      "source": [
        "# import tensorflow_model_optimization as tfmot"
      ]
    },
    {
      "cell_type": "code",
      "execution_count": null,
      "metadata": {
        "id": "Bi8kSgwOBwoc"
      },
      "outputs": [],
      "source": [
        "# # pruning_schedule = tfmot.sparsity.keras.ConstantSparsity(target_sparsity=0.75, begin_step=0)\n",
        "\n",
        "# # # pruning_schedule = tfmot.sparsity.keras.PolynomialDecay(initial_sparsity=0.25, final_sparsity=0.75, begin_step=0, end_step=2953)\n",
        "\n",
        "# end_step = len(train_ds_cached_shuffled) * 5\n",
        "\n",
        "# pruning_params = {\n",
        "#       'pruning_schedule': tfmot.sparsity.keras.PolynomialDecay(initial_sparsity=0.25,\n",
        "#                                                                final_sparsity=0.75,\n",
        "#                                                                begin_step=0,\n",
        "#                                                                end_step=end_step),\n",
        "#       # 'pruning_policy': tfmot.sparsity.keras.PruneForLatencyOnXNNPack()\n",
        "# }\n",
        "\n",
        "\n",
        "# pruning_ready_mobilenet_025_96 = tfmot.sparsity.keras.prune_low_magnitude(mobilenet_025_96, **pruning_params)\n",
        "\n",
        "# pruning_ready_mobilenet_025_96.summary()"
      ]
    },
    {
      "cell_type": "code",
      "execution_count": null,
      "metadata": {
        "id": "z6PVDuGWB-03"
      },
      "outputs": [],
      "source": [
        "# pruned_model = tf.keras.Sequential([\n",
        "#   data_augmentation,\n",
        "#   tf.keras.layers.Resizing(96, 96, crop_to_aspect_ratio=True),\n",
        "#   pruning_ready_mobilenet_025_96\n",
        "# ])"
      ]
    },
    {
      "cell_type": "code",
      "execution_count": null,
      "metadata": {
        "id": "vuXfssPlOFA1"
      },
      "outputs": [],
      "source": [
        "# !rm -rf /content/pruning"
      ]
    },
    {
      "cell_type": "code",
      "execution_count": null,
      "metadata": {
        "id": "OSh-NBhZCfbG"
      },
      "outputs": [],
      "source": [
        "# pruned_model.compile(\n",
        "#     optimizer=tf.keras.optimizers.Adam(learning_rate=0.001),\n",
        "#     loss=tf.keras.losses.CategoricalCrossentropy(),\n",
        "#     metrics=['accuracy']\n",
        "# )"
      ]
    },
    {
      "cell_type": "code",
      "execution_count": null,
      "metadata": {
        "id": "ZzQ-RLz_CF91"
      },
      "outputs": [],
      "source": [
        "# history = pruned_model.fit(\n",
        "#     train_ds_cached_shuffled,\n",
        "#     validation_data=val_ds_cached,\n",
        "#     epochs=5,\n",
        "#     batch_size=32,\n",
        "#     callbacks=[\n",
        "#         tfmot.sparsity.keras.UpdatePruningStep(),\n",
        "#         tfmot.sparsity.keras.PruningSummaries(log_dir='/content/pruning'),\n",
        "#     ]\n",
        "# )\n"
      ]
    },
    {
      "cell_type": "code",
      "execution_count": null,
      "metadata": {
        "id": "1hB8FELNVr5n"
      },
      "outputs": [],
      "source": [
        "#"
      ]
    },
    {
      "cell_type": "code",
      "execution_count": null,
      "metadata": {
        "id": "VXboOeG0Juwd"
      },
      "outputs": [],
      "source": [
        "# pruned_model.evaluate(test_ds)"
      ]
    },
    {
      "cell_type": "code",
      "execution_count": null,
      "metadata": {
        "id": "layaqU9fO9Yx"
      },
      "outputs": [],
      "source": [
        "# %load_ext tensorboard"
      ]
    },
    {
      "cell_type": "code",
      "execution_count": null,
      "metadata": {
        "id": "bKLjrkowOLOM"
      },
      "outputs": [],
      "source": [
        "# #docs_infra: no_execute\n",
        "# %tensorboard --logdir=/content/pruning"
      ]
    },
    {
      "cell_type": "code",
      "execution_count": null,
      "metadata": {
        "id": "09Wf28SXJ4fs"
      },
      "outputs": [],
      "source": [
        "# model_for_export = tfmot.sparsity.keras.strip_pruning(pruning_ready_mobilenet_025_96)\n",
        "\n",
        "# converter = tf.lite.TFLiteConverter.from_keras_model(model_for_export)\n",
        "# converter.optimizations = [ tf.lite.Optimize.DEFAULT ]\n",
        "# converter.representative_dataset = representative_dataset\n",
        "\n",
        "# converter.target_spec.supported_ops = [ tf.lite.OpsSet.TFLITE_BUILTINS_INT8 ]\n",
        "# converter.inference_input_type = tf.int8\n",
        "# converter.inference_output_type = tf.int8\n",
        "\n",
        "# tflite_pruned_quant_model = converter.convert()"
      ]
    },
    {
      "cell_type": "code",
      "execution_count": null,
      "metadata": {
        "id": "f3DlUnezXIC6"
      },
      "outputs": [],
      "source": [
        "# pruning_ready_mobilenet_025_96.layers"
      ]
    },
    {
      "cell_type": "code",
      "execution_count": null,
      "metadata": {
        "id": "1VG4q0MzKE5J"
      },
      "outputs": [],
      "source": [
        "# # with open('pruned_model.tflite', 'wb') as output:\n",
        "#   print(len(tflite_quant_model))\n",
        "#   output.write(tflite_quant_model);"
      ]
    },
    {
      "cell_type": "code",
      "execution_count": null,
      "metadata": {
        "id": "nTFifn9hBwve"
      },
      "outputs": [],
      "source": [
        "#### ..."
      ]
    },
    {
      "cell_type": "code",
      "execution_count": null,
      "metadata": {
        "id": "CDnRwxif4tlj"
      },
      "outputs": [],
      "source": [
        "# import tensorflow_model_optimization as tfmot\n",
        "\n",
        "# quant_aware_mobilenet_025_96 = tfmot.quantization.keras.quantize_model(mobilenet_025_96)"
      ]
    },
    {
      "cell_type": "code",
      "execution_count": null,
      "metadata": {
        "id": "d4q-CpYS5DRB"
      },
      "outputs": [],
      "source": [
        "# quant_aware_model = tf.keras.Sequential([\n",
        "#   data_augmentation,\n",
        "#   tf.keras.layers.Resizing(96, 96, crop_to_aspect_ratio=True),\n",
        "#   quant_aware_mobilenet_025_96\n",
        "# ])"
      ]
    },
    {
      "cell_type": "code",
      "execution_count": null,
      "metadata": {
        "id": "jFQHhgtM41b_"
      },
      "outputs": [],
      "source": [
        "# quant_aware_model.compile(\n",
        "#     optimizer=tf.keras.optimizers.Adam(learning_rate=0.001),\n",
        "#     loss=tf.keras.losses.CategoricalCrossentropy(),\n",
        "#     metrics=['accuracy']\n",
        "# )"
      ]
    },
    {
      "cell_type": "code",
      "execution_count": null,
      "metadata": {
        "id": "WPqQ1xMO43Qg"
      },
      "outputs": [],
      "source": [
        "# history = quant_aware_model.fit(\n",
        "#     train_ds_cached_shuffled,\n",
        "#     validation_data=val_ds_cached,\n",
        "#     epochs=1,\n",
        "#     batch_size=32,\n",
        "# )"
      ]
    },
    {
      "cell_type": "code",
      "execution_count": null,
      "metadata": {
        "id": "fjekzvcq4tuf"
      },
      "outputs": [],
      "source": [
        "#### ..."
      ]
    },
    {
      "cell_type": "code",
      "execution_count": null,
      "metadata": {
        "id": "Hjr0xberniSf"
      },
      "outputs": [],
      "source": [
        "# !du -hs dataset"
      ]
    },
    {
      "cell_type": "code",
      "execution_count": null,
      "metadata": {
        "id": "94uiJ8Q6b6Jm"
      },
      "outputs": [],
      "source": [
        "# # train_ds = tf.data.Dataset.from_tensor_slices(\n",
        "#     (train_df.path, train_df.label)\n",
        "# )"
      ]
    },
    {
      "cell_type": "code",
      "execution_count": null,
      "metadata": {
        "id": "yG2wHDo24DIg"
      },
      "outputs": [],
      "source": [
        "# train_ds, val_ds = tf.keras.utils.image_dataset_from_directory(\n",
        "#     os.path.join(os.getcwd(), 'datasets', 'CNRPark-Patches-150x150'),\n",
        "#     color_mode='grayscale',\n",
        "#     batch_size=32,\n",
        "#     image_size=(150, 150),\n",
        "#     shuffle=True,\n",
        "#     seed=42,\n",
        "#     validation_split=0.2,\n",
        "#     subset='both',\n",
        "# )"
      ]
    },
    {
      "cell_type": "code",
      "execution_count": null,
      "metadata": {
        "id": "1dMO4aOF1N78"
      },
      "outputs": [],
      "source": [
        "# for x, y in train_ds.unbatch().take(10):\n",
        "#   print(x.shape, y)"
      ]
    },
    {
      "cell_type": "code",
      "execution_count": null,
      "metadata": {
        "id": "j6FjFaky6u7M"
      },
      "outputs": [],
      "source": [
        "  # all_ds = tf.keras.utils.image_dataset_from_directory(\n",
        "  #     directory=os.path.join(os.getcwd(), 'datasets', 'CNR-EXT-Patches-150x150'),\n",
        "  #     labels=None,\n",
        "  #     color_mode='grayscale',\n",
        "  #     batch_size=32,\n",
        "  #     image_size=(150, 150),\n",
        "  #     # shuffle=True,\n",
        "  #     # seed=42,\n",
        "  #     # validation_split=0.2,\n",
        "  #     # subset='both',\n",
        "  # )"
      ]
    }
  ],
  "metadata": {
    "accelerator": "GPU",
    "colab": {
      "provenance": []
    },
    "kernelspec": {
      "display_name": "Python 3",
      "name": "python3"
    },
    "language_info": {
      "name": "python"
    }
  },
  "nbformat": 4,
  "nbformat_minor": 0
}